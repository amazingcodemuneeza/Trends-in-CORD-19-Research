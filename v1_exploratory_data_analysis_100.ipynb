{
 "cells": [
  {
   "cell_type": "markdown",
   "id": "3af53205",
   "metadata": {},
   "source": [
    "# EDA on CORD-19 Dataset:\n",
    "In this notebook I provided a comprehensive view of the CORD-19 dataset, uncovering patterns related to publication years, sources, and the structure of research papers.\n",
    "\n",
    "**Data Loading & Inspection:**\n",
    "Loaded the CORD-19 dataset and explored its structure, checking for missing values.\n",
    "\n",
    "**Visualizations:**\n",
    "Visualized publication sources, publication year distribution, top journals, abstract length, and license types.\n",
    "\n",
    "**Text Analysis:**\n",
    "Extracted and cleaned text from abstracts and body text, then calculated word and character counts.\n",
    "\n",
    "**Section Analysis:**\n",
    "Identified and visualized the most common document sections (e.g., Introduction, Methods).\n",
    "\n",
    "**Word Cloud & Frequency:**\n",
    "Generated a word cloud and identified the top 20 most frequent words after removing stop words\n",
    "\n",
    "**Next Steps:**\n",
    "Feature engineering, Modeling and Time Series"
   ]
  },
  {
   "cell_type": "code",
   "execution_count": 22,
   "id": "8933923c",
   "metadata": {},
   "outputs": [],
   "source": [
    "import pandas as pd\n",
    "import matplotlib.pyplot as plt\n",
    "import seaborn as sns\n",
    "import json\n",
    "import os\n",
    "import re\n",
    "from collections import Counter\n",
    "from wordcloud import WordCloud\n"
   ]
  },
  {
   "cell_type": "code",
   "execution_count": 23,
   "id": "6831a612",
   "metadata": {},
   "outputs": [
    {
     "name": "stderr",
     "output_type": "stream",
     "text": [
      "C:\\Users\\MUZEEZA SYED\\AppData\\Local\\Temp\\ipykernel_4456\\195187386.py:1: DtypeWarning: Columns (1,4,5,6,13,14,15,16) have mixed types. Specify dtype option on import or set low_memory=False.\n",
      "  df = pd.read_csv(\"metadata.csv\")\n"
     ]
    }
   ],
   "source": [
    "df = pd.read_csv(\"metadata.csv\")"
   ]
  },
  {
   "cell_type": "markdown",
   "id": "9b8244ca",
   "metadata": {},
   "source": [
    "Here I will display a summary of the dataset including column types, non-null counts, and a preview of the first 5 rows"
   ]
  },
  {
   "cell_type": "code",
   "execution_count": 24,
   "id": "eb286b10",
   "metadata": {},
   "outputs": [
    {
     "name": "stdout",
     "output_type": "stream",
     "text": [
      "Dataset Info:\n",
      "<class 'pandas.core.frame.DataFrame'>\n",
      "RangeIndex: 1056660 entries, 0 to 1056659\n",
      "Data columns (total 19 columns):\n",
      " #   Column            Non-Null Count    Dtype  \n",
      "---  ------            --------------    -----  \n",
      " 0   cord_uid          1056660 non-null  object \n",
      " 1   sha               373766 non-null   object \n",
      " 2   source_x          1056660 non-null  object \n",
      " 3   title             1056157 non-null  object \n",
      " 4   doi               656780 non-null   object \n",
      " 5   pmcid             389571 non-null   object \n",
      " 6   pubmed_id         498932 non-null   object \n",
      " 7   license           1056660 non-null  object \n",
      " 8   abstract          821116 non-null   object \n",
      " 9   publish_time      1054846 non-null  object \n",
      " 10  authors           1032791 non-null  object \n",
      " 11  journal           969338 non-null   object \n",
      " 12  mag_id            0 non-null        float64\n",
      " 13  who_covidence_id  482935 non-null   object \n",
      " 14  arxiv_id          14249 non-null    object \n",
      " 15  pdf_json_files    373766 non-null   object \n",
      " 16  pmc_json_files    315742 non-null   object \n",
      " 17  url               686934 non-null   object \n",
      " 18  s2_id             976468 non-null   float64\n",
      "dtypes: float64(2), object(17)\n",
      "memory usage: 153.2+ MB\n",
      "\n",
      "First 5 Rows:\n",
      "   cord_uid                                       sha source_x  \\\n",
      "0  ug7v899j  d1aafb70c066a2068b02786f8929fd9c900897fb      PMC   \n",
      "1  02tnwd4m  6b0567729c2143a66d737eb0a2f63f2dce2e5a7d      PMC   \n",
      "2  ejv2xln0  06ced00a5fc04215949aa72528f2eeaae1d58927      PMC   \n",
      "3  2b73a28n  348055649b6b8cf2b9a376498df9bf41f7123605      PMC   \n",
      "4  9785vg6d  5f48792a5fa08bed9f56016f4981ae2ca6031b32      PMC   \n",
      "\n",
      "                                               title                    doi  \\\n",
      "0  Clinical features of culture-proven Mycoplasma...  10.1186/1471-2334-1-6   \n",
      "1  Nitric oxide: a pro-inflammatory mediator in l...           10.1186/rr14   \n",
      "2    Surfactant protein-D and pulmonary host defense           10.1186/rr19   \n",
      "3               Role of endothelin-1 in lung disease           10.1186/rr44   \n",
      "4  Gene expression in epithelial cells in respons...           10.1186/rr61   \n",
      "\n",
      "      pmcid pubmed_id license  \\\n",
      "0  PMC35282  11472636   no-cc   \n",
      "1  PMC59543  11667967   no-cc   \n",
      "2  PMC59549  11667972   no-cc   \n",
      "3  PMC59574  11686871   no-cc   \n",
      "4  PMC59580  11686888   no-cc   \n",
      "\n",
      "                                            abstract publish_time  \\\n",
      "0  OBJECTIVE: This retrospective chart review des...   2001-07-04   \n",
      "1  Inflammatory diseases of the respiratory tract...   2000-08-15   \n",
      "2  Surfactant protein-D (SP-D) participates in th...   2000-08-25   \n",
      "3  Endothelin-1 (ET-1) is a 21 amino acid peptide...   2001-02-22   \n",
      "4  Respiratory syncytial virus (RSV) and pneumoni...   2001-05-11   \n",
      "\n",
      "                                             authors         journal  mag_id  \\\n",
      "0                Madani, Tariq A; Al-Ghamdi, Aisha A  BMC Infect Dis     NaN   \n",
      "1  Vliet, Albert van der; Eiserich, Jason P; Cros...      Respir Res     NaN   \n",
      "2                                    Crouch, Erika C      Respir Res     NaN   \n",
      "3  Fagan, Karen A; McMurtry, Ivan F; Rodman, David M      Respir Res     NaN   \n",
      "4  Domachowske, Joseph B; Bonville, Cynthia A; Ro...      Respir Res     NaN   \n",
      "\n",
      "  who_covidence_id arxiv_id  \\\n",
      "0              NaN      NaN   \n",
      "1              NaN      NaN   \n",
      "2              NaN      NaN   \n",
      "3              NaN      NaN   \n",
      "4              NaN      NaN   \n",
      "\n",
      "                                      pdf_json_files  \\\n",
      "0  document_parses/pdf_json/d1aafb70c066a2068b027...   \n",
      "1  document_parses/pdf_json/6b0567729c2143a66d737...   \n",
      "2  document_parses/pdf_json/06ced00a5fc04215949aa...   \n",
      "3  document_parses/pdf_json/348055649b6b8cf2b9a37...   \n",
      "4  document_parses/pdf_json/5f48792a5fa08bed9f560...   \n",
      "\n",
      "                               pmc_json_files  \\\n",
      "0  document_parses/pmc_json/PMC35282.xml.json   \n",
      "1  document_parses/pmc_json/PMC59543.xml.json   \n",
      "2  document_parses/pmc_json/PMC59549.xml.json   \n",
      "3  document_parses/pmc_json/PMC59574.xml.json   \n",
      "4  document_parses/pmc_json/PMC59580.xml.json   \n",
      "\n",
      "                                                 url  s2_id  \n",
      "0  https://www.ncbi.nlm.nih.gov/pmc/articles/PMC3...    NaN  \n",
      "1  https://www.ncbi.nlm.nih.gov/pmc/articles/PMC5...    NaN  \n",
      "2  https://www.ncbi.nlm.nih.gov/pmc/articles/PMC5...    NaN  \n",
      "3  https://www.ncbi.nlm.nih.gov/pmc/articles/PMC5...    NaN  \n",
      "4  https://www.ncbi.nlm.nih.gov/pmc/articles/PMC5...    NaN  \n"
     ]
    }
   ],
   "source": [
    "print(\"Dataset Info:\")\n",
    "df.info()\n",
    "print(\"\\nFirst 5 Rows:\")\n",
    "print(df.head())"
   ]
  },
  {
   "cell_type": "markdown",
   "id": "fda940ca",
   "metadata": {},
   "source": [
    "Next here will display the total number of missing (null) values in each column of the dataset"
   ]
  },
  {
   "cell_type": "code",
   "execution_count": 25,
   "id": "7868c848",
   "metadata": {},
   "outputs": [
    {
     "name": "stdout",
     "output_type": "stream",
     "text": [
      "\n",
      "Missing Values:\n",
      "cord_uid                  0\n",
      "sha                  682894\n",
      "source_x                  0\n",
      "title                   503\n",
      "doi                  399880\n",
      "pmcid                667089\n",
      "pubmed_id            557728\n",
      "license                   0\n",
      "abstract             235544\n",
      "publish_time           1814\n",
      "authors               23869\n",
      "journal               87322\n",
      "mag_id              1056660\n",
      "who_covidence_id     573725\n",
      "arxiv_id            1042411\n",
      "pdf_json_files       682894\n",
      "pmc_json_files       740918\n",
      "url                  369726\n",
      "s2_id                 80192\n",
      "dtype: int64\n"
     ]
    }
   ],
   "source": [
    "print(\"\\nMissing Values:\")\n",
    "print(df.isnull().sum())\n"
   ]
  },
  {
   "cell_type": "markdown",
   "id": "2507d540",
   "metadata": {},
   "source": [
    "This displays the count of unique values in the 'source_x' column to understand the distribution of data sources"
   ]
  },
  {
   "cell_type": "code",
   "execution_count": 26,
   "id": "809a713c",
   "metadata": {},
   "outputs": [
    {
     "name": "stdout",
     "output_type": "stream",
     "text": [
      "\n",
      "Unique Sources:\n",
      "source_x\n",
      "WHO                                    450459\n",
      "Medline; PMC                           150593\n",
      "Medline                                131531\n",
      "PMC                                     80192\n",
      "Medline; PMC; WHO                       65968\n",
      "Elsevier; Medline; PMC                  49318\n",
      "Medline; WHO                            43928\n",
      "Elsevier; Medline; PMC; WHO             19794\n",
      "MedRxiv; WHO                            13756\n",
      "ArXiv                                   13176\n",
      "Elsevier; PMC                            8550\n",
      "Elsevier; PMC; WHO                       6593\n",
      "PMC; WHO                                 6136\n",
      "MedRxiv                                  4754\n",
      "BioRxiv; WHO                             3746\n",
      "BioRxiv                                  3600\n",
      "MedRxiv; Medline; PMC; WHO                957\n",
      "BioRxiv; Medline; PMC; WHO                704\n",
      "BioRxiv; Medline; WHO                     403\n",
      "MedRxiv; Medline; WHO                     389\n",
      "Elsevier                                  371\n",
      "BioRxiv; MedRxiv                          249\n",
      "ArXiv; Medline; PMC                       237\n",
      "ArXiv; WHO                                209\n",
      "ArXiv; Medline                            177\n",
      "ArXiv; Medline; PMC; WHO                  176\n",
      "ArXiv; Medline; WHO                       127\n",
      "MedRxiv; Medline; PMC                     102\n",
      "BioRxiv; Medline; PMC                      88\n",
      "BioRxiv; MedRxiv; WHO                      73\n",
      "ArXiv; Elsevier; Medline; PMC              68\n",
      "Elsevier; Medline                          58\n",
      "ArXiv; Elsevier; Medline; PMC; WHO         45\n",
      "BioRxiv; Medline                           34\n",
      "MedRxiv; Medline                           23\n",
      "ArXiv; Elsevier; PMC                       11\n",
      "ArXiv; PMC                                 11\n",
      "MedRxiv; PMC                               10\n",
      "BioRxiv; MedRxiv; Medline; WHO              9\n",
      "Elsevier; WHO                               8\n",
      "ArXiv; PMC; WHO                             5\n",
      "BioRxiv; MedRxiv; Medline; PMC; WHO         5\n",
      "BioRxiv; MedRxiv; Medline; PMC              4\n",
      "Elsevier; Medline; WHO                      4\n",
      "ArXiv; Elsevier                             2\n",
      "ArXiv; Elsevier; PMC; WHO                   2\n",
      "ArXiv; MedRxiv; WHO                         2\n",
      "MedRxiv; PMC; WHO                           2\n",
      "ArXiv; MedRxiv                              1\n",
      "Name: count, dtype: int64\n"
     ]
    }
   ],
   "source": [
    "print(\"\\nUnique Sources:\")\n",
    "print(df['source_x'].value_counts())"
   ]
  },
  {
   "cell_type": "markdown",
   "id": "4fa4a053",
   "metadata": {},
   "source": [
    "Here I extracted the publication year from the 'publish_time' column and created a histogram to visualize its distribution. Invalid dates are coerced to NaT, then dropped before plotting."
   ]
  },
  {
   "cell_type": "code",
   "execution_count": 27,
   "id": "24a1decc",
   "metadata": {},
   "outputs": [
    {
     "data": {
      "image/png": "[encoded data removed]",
      "text/plain": [
       "<Figure size 1000x500 with 1 Axes>"
      ]
     },
     "metadata": {},
     "output_type": "display_data"
    }
   ],
   "source": [
    "df['publish_year'] = pd.to_datetime(df['publish_time'], errors='coerce').dt.year\n",
    "plt.figure(figsize=(10,5))\n",
    "sns.histplot(df['publish_year'].dropna(), bins=30, kde=True)\n",
    "plt.title(\"Publication Year Distribution\")\n",
    "plt.xlabel(\"Year\")\n",
    "plt.ylabel(\"Count\")\n",
    "plt.show()"
   ]
  },
  {
   "cell_type": "markdown",
   "id": "321ca73d",
   "metadata": {},
   "source": [
    "Next I will display the top 10 most frequent journals in the dataset and visualize them using a bar chart"
   ]
  },
  {
   "cell_type": "code",
   "execution_count": 28,
   "id": "c022101c",
   "metadata": {},
   "outputs": [
    {
     "name": "stdout",
     "output_type": "stream",
     "text": [
      "\n",
      "Top 10 Journals:\n",
      "journal\n",
      "PLoS One                           9953\n",
      "bioRxiv                            8961\n",
      "Int J Environ Res Public Health    8201\n",
      "BMJ                                6928\n",
      "Sci Rep                            5935\n",
      "Cureus                             4212\n",
      "Reactions Weekly                   3891\n",
      "Front Psychol                      3541\n",
      "BMJ Open                           3515\n",
      "Front Immunol                      3442\n",
      "Name: count, dtype: int64\n"
     ]
    },
    {
     "data": {
      "image/png": "[encoded data removed]",
      "text/plain": [
       "<Figure size 1000x500 with 1 Axes>"
      ]
     },
     "metadata": {},
     "output_type": "display_data"
    }
   ],
   "source": [
    "print(\"\\nTop 10 Journals:\")\n",
    "print(df['journal'].value_counts().head(10))\n",
    "plt.figure(figsize=(10,5))\n",
    "df['journal'].value_counts().head(10).plot(kind='bar')\n",
    "plt.title(\"Top 10 Journals\")\n",
    "plt.xlabel(\"Journal\")\n",
    "plt.ylabel(\"Count\")\n",
    "plt.xticks(rotation=45)\n",
    "plt.show()"
   ]
  },
  {
   "cell_type": "markdown",
   "id": "d660f2e9",
   "metadata": {},
   "source": [
    "I calculated the length of each abstract and created a histogram to visualize the distribution of abstract lengths"
   ]
  },
  {
   "cell_type": "code",
   "execution_count": 29,
   "id": "b3510418",
   "metadata": {},
   "outputs": [
    {
     "data": {
      "image/png": "[encoded data removed]",
      "text/plain": [
       "<Figure size 1000x500 with 1 Axes>"
      ]
     },
     "metadata": {},
     "output_type": "display_data"
    }
   ],
   "source": [
    "df['abstract_length'] = df['abstract'].astype(str).apply(len)\n",
    "plt.figure(figsize=(10,5))\n",
    "sns.histplot(df['abstract_length'], bins=50, kde=True)\n",
    "plt.title(\"Abstract Length Distribution\")\n",
    "plt.xlabel(\"Length\")\n",
    "plt.ylabel(\"Count\")\n",
    "plt.show()"
   ]
  },
  {
   "cell_type": "markdown",
   "id": "fa8dc79c",
   "metadata": {},
   "source": [
    "Here I will display the distribution of license types in the dataset and visualize it using a bar chart"
   ]
  },
  {
   "cell_type": "code",
   "execution_count": 30,
   "id": "df9e0b47",
   "metadata": {},
   "outputs": [
    {
     "name": "stdout",
     "output_type": "stream",
     "text": [
      "\n",
      "License Distribution:\n",
      "license\n",
      "unk            601506\n",
      "no-cc          165314\n",
      "cc-by          160955\n",
      "els-covid       32382\n",
      "cc-by-nc        26046\n",
      "cc-by-nc-nd     20226\n",
      "medrxiv         17970\n",
      "arxiv           13698\n",
      "biorxiv          7841\n",
      "cc-by-nc-sa      6549\n",
      "cc0               972\n",
      "green-oa          896\n",
      "cc-by-nd          886\n",
      "bronze-oa         749\n",
      "hybrid-oa         256\n",
      "cc-by-sa          172\n",
      "pd                145\n",
      "gold-oa            97\n",
      "Name: count, dtype: int64\n"
     ]
    },
    {
     "data": {
      "image/png": "[encoded data removed]",
      "text/plain": [
       "<Figure size 640x480 with 1 Axes>"
      ]
     },
     "metadata": {},
     "output_type": "display_data"
    }
   ],
   "source": [
    "print(\"\\nLicense Distribution:\")\n",
    "print(df['license'].value_counts())\n",
    "df['license'].value_counts().plot(kind='bar')\n",
    "plt.title(\"License Distribution\")\n",
    "plt.xlabel(\"License Type\")\n",
    "plt.ylabel(\"Count\")\n",
    "plt.xticks(rotation=45)\n",
    "plt.show()"
   ]
  },
  {
   "cell_type": "markdown",
   "id": "693dc60b",
   "metadata": {},
   "source": [
    "This function is designed to handle file reading and errors gracefully. The Function only read up to 100 valid JSON files from a list of paths, skipping non-existent or invalid files"
   ]
  },
  {
   "cell_type": "code",
   "execution_count": 31,
   "id": "ece91aa3",
   "metadata": {},
   "outputs": [],
   "source": [
    "def read_json_files(paths):\n",
    "    \"\"\"Reads up to 100 valid JSON files from a list of paths, skipping non-existent or invalid ones.\"\"\"\n",
    "    json_data = []  # List to store the successfully loaded JSON data\n",
    "    skipped_files = []  # List to keep track of paths that couldn't be processed\n",
    "\n",
    "    for path in paths:\n",
    "        path = str(path).strip()  # Clean the path by removing extra spaces\n",
    "        if not path or path.lower() == \"nan\" or not path.endswith(\".json\"):  # Skip invalid paths or non-JSON files\n",
    "            continue\n",
    "        if os.path.exists(path):  # Check if the file exists\n",
    "            try:\n",
    "                with open(path, \"r\", encoding=\"utf-8\") as f:  # Open the file in read mode with UTF-8 encoding\n",
    "                    json_data.append(json.load(f))  # Load the JSON content and append it to the list\n",
    "            except json.JSONDecodeError as e:  # Catch JSON decoding errors and print a warning\n",
    "                print(f\"⚠️ JSON decode error in file {path}: {e}\")\n",
    "        else:\n",
    "            skipped_files.append(path)  # Add the path to the skipped files list if the file doesn't exist\n",
    "\n",
    "        if len(json_data) >= 100:  # Stop reading files after 100 valid JSON files\n",
    "            break\n",
    "\n",
    "    print(f\"🔍 Skipped {len(skipped_files)} missing files.\")  # Print a message about skipped files\n",
    "    return json_data  # Return the successfully loaded JSON data\n"
   ]
  },
  {
   "cell_type": "markdown",
   "id": "ad834341",
   "metadata": {},
   "source": [
    "Combine the 'pdf_json_files' and 'pmc_json_files' columns into a single string, separated by a semicolon, and store it in a new column 'all_json_files'"
   ]
  },
  {
   "cell_type": "code",
   "execution_count": 32,
   "id": "62e28ae4",
   "metadata": {},
   "outputs": [],
   "source": [
    "df[\"all_json_files\"] = df[[\"pdf_json_files\", \"pmc_json_files\"]].astype(str).agg(\";\".join, axis=1)"
   ]
  },
  {
   "cell_type": "markdown",
   "id": "a88d8d5b",
   "metadata": {},
   "source": [
    "Split the 'all_json_files' column by semicolons, flatten the list into individual file paths, remove any NaN values, strip any leading or trailing spaces from the paths, and convert the result into a list of file paths."
   ]
  },
  {
   "cell_type": "code",
   "execution_count": 33,
   "id": "a18defb9",
   "metadata": {},
   "outputs": [],
   "source": [
    "all_paths = (\n",
    "    df[\"all_json_files\"]\n",
    "    .str.split(\";\")\n",
    "    .explode()\n",
    "    .dropna()\n",
    "    .map(str.strip)\n",
    "    .tolist()\n",
    ")"
   ]
  },
  {
   "cell_type": "markdown",
   "id": "6ea440a4",
   "metadata": {},
   "source": [
    "Here I created a new variable 'limited_paths' that is a copy of the list 'all_paths'"
   ]
  },
  {
   "cell_type": "code",
   "execution_count": 34,
   "id": "07230077",
   "metadata": {},
   "outputs": [],
   "source": [
    "limited_paths = all_paths"
   ]
  },
  {
   "cell_type": "markdown",
   "id": "796ee3ee",
   "metadata": {},
   "source": [
    "Next, Read up to 100 valid JSON files from the 'limited_paths' list, skipping invalid or non-existent files and storing the successful JSON content in 'json_contents'."
   ]
  },
  {
   "cell_type": "code",
   "execution_count": 35,
   "id": "9599d77d",
   "metadata": {},
   "outputs": [
    {
     "name": "stdout",
     "output_type": "stream",
     "text": [
      "🔍 Skipped 717012 missing files.\n",
      "\n",
      "✅ Total JSON files successfully read: 0\n"
     ]
    }
   ],
   "source": [
    "json_contents = read_json_files(limited_paths)\n",
    "\n",
    "# Print the total number of successfully read JSON files\n",
    "print(f\"\\n✅ Total JSON files successfully read: {len(json_contents)}\")"
   ]
  },
  {
   "cell_type": "markdown",
   "id": "a3c24758",
   "metadata": {},
   "source": [
    "Here I wrote a function to extract and concatenate text from 'abstract' and 'body_text' fields of a JSON object.\n",
    "Handles both list and string types for these fields and concatenates the extracted text."
   ]
  },
  {
   "cell_type": "code",
   "execution_count": 36,
   "id": "ab585fee",
   "metadata": {},
   "outputs": [],
   "source": [
    "def extract_text(json_obj):\n",
    "    \"\"\"\n",
    "    Extracts and concatenates text from the 'abstract' and 'body_text' fields.\n",
    "    \"\"\"\n",
    "    text_parts = []  # List to hold the extracted text parts\n",
    "\n",
    "    # Process abstract field (it can be a list or a string)\n",
    "    if \"abstract\" in json_obj:\n",
    "        if isinstance(json_obj[\"abstract\"], list):  # If 'abstract' is a list, process each item\n",
    "            for item in json_obj[\"abstract\"]:\n",
    "                if isinstance(item, str):  # If the item is a string, add it to text_parts\n",
    "                    text_parts.append(item)\n",
    "                elif isinstance(item, dict):  # If the item is a dict, extract the 'text' key value\n",
    "                    text_parts.append(item.get(\"text\", \"\"))\n",
    "        elif isinstance(json_obj[\"abstract\"], str):  # If 'abstract' is a string, add it directly\n",
    "            text_parts.append(json_obj[\"abstract\"])\n",
    "    \n",
    "    # Process body_text field (usually a list of sections)\n",
    "    if \"body_text\" in json_obj:\n",
    "        if isinstance(json_obj[\"body_text\"], list):  # If 'body_text' is a list, process each item\n",
    "            for item in json_obj[\"body_text\"]:\n",
    "                if isinstance(item, dict):  # If the item is a dict, extract the 'text' key value\n",
    "                    text_parts.append(item.get(\"text\", \"\"))\n",
    "                elif isinstance(item, str):  # If the item is a string, add it to text_parts\n",
    "                    text_parts.append(item)\n",
    "        elif isinstance(json_obj[\"body_text\"], str):  # If 'body_text' is a string, add it directly\n",
    "            text_parts_"
   ]
  },
  {
   "cell_type": "markdown",
   "id": "28a8d4f3",
   "metadata": {},
   "source": [
    "Iterate over each JSON object in 'json_contents' to extract key information and process it into a structured format"
   ]
  },
  {
   "cell_type": "code",
   "execution_count": 39,
   "id": "03103424",
   "metadata": {},
   "outputs": [],
   "source": [
    "records = []  # List to store processed records for each paper\n",
    "\n",
    "for json_obj in json_contents:\n",
    "    # Extract paper_id and title from metadata (set default values if missing)\n",
    "    paper_id = json_obj.get(\"paper_id\", \"Unknown\")\n",
    "    metadata = json_obj.get(\"metadata\", {})\n",
    "    title = metadata.get(\"title\", \"No Title\")\n",
    "    \n",
    "    # Extract authors as a comma-separated string, handling both dictionary and string formats\n",
    "    authors_list = metadata.get(\"authors\", [])\n",
    "    if isinstance(authors_list, list) and authors_list:\n",
    "        authors = []\n",
    "        for a in authors_list:\n",
    "            if isinstance(a, dict):  # If the author is a dictionary, use the 'name' key or combine first and last names\n",
    "                if \"name\" in a:\n",
    "                    authors.append(a[\"name\"])\n",
    "                else:\n",
    "                    fname = a.get(\"first\", \"\")\n",
    "                    lname = a.get(\"last\", \"\")\n",
    "                    authors.append((fname + \" \" + lname).strip())\n",
    "            elif isinstance(a, str):  # If the author is a string, add it directly\n",
    "                authors.append(a)\n",
    "        authors = \", \".join(authors)  # Combine all authors into a comma-separated string\n",
    "    else:\n",
    "        authors = \"Unknown\"  # Set \"Unknown\" if authors are missing or not in list format\n",
    "    \n",
    "    # Extract combined text (abstract + body_text) using the 'extract_text' function and calculate word/character counts\n",
    "    text = extract_text(json_obj)\n",
    "    word_count = len(re.findall(r'\\w+', text))  # Count the number of words using regex\n",
    "    char_count = len(text)  # Count the total number of characters in the text\n",
    "    \n",
    "    # Extract sections from 'body_text' (if available) and join them into a comma-separated string\n",
    "    sections = []\n",
    "    if \"body_text\" in json_obj and isinstance(json_obj[\"body_text\"], list):\n",
    "        for item in json_obj[\"body_text\"]:\n",
    "            if isinstance(item, dict):\n",
    "                sec = item.get(\"section\", \"\").strip()  # Get the section name from each item (if available)\n",
    "                if sec:\n",
    "                    sections.append(sec)\n",
    "    sections_str = \", \".join(set(sections)) if sections else \"N/A\"  # Combine sections into a string or \"N/A\" if none\n",
    "    \n",
    "    # Append a record with extracted information for the current paper\n",
    "    records.append({\n",
    "        \"paper_id\": paper_id,\n",
    "        \"title\": title,\n",
    "        \"authors\": authors,\n",
    "        \"word_count\": word_count,\n",
    "        \"char_count\": char_count,\n",
    "        \"sections\": sections_str,\n",
    "        \"text\": text  # Add the full extracted text for later analysis\n",
    "    })\n",
    "\n",
    "# Convert the list of processed records into a DataFrame for further analysis or storage\n",
    "eda_df = pd.DataFrame(records)\n"
   ]
  },
  {
   "cell_type": "markdown",
   "id": "3a96c6a5",
   "metadata": {},
   "source": [
    "Here I will display the 'eda_df' DataFrame, which contains structured information extracted from the JSON files.This DataFrame includes columns like paper_id, title, authors, word count, character count, sections, and the full text."
   ]
  },
  {
   "cell_type": "code",
   "execution_count": 40,
   "id": "2bd8054e",
   "metadata": {},
   "outputs": [
    {
     "data": {
      "text/html": [
       "<div>\n",
       "<style scoped>\n",
       "    .dataframe tbody tr th:only-of-type {\n",
       "        vertical-align: middle;\n",
       "    }\n",
       "\n",
       "    .dataframe tbody tr th {\n",
       "        vertical-align: top;\n",
       "    }\n",
       "\n",
       "    .dataframe thead th {\n",
       "        text-align: right;\n",
       "    }\n",
       "</style>\n",
       "<table border=\"1\" class=\"dataframe\">\n",
       "  <thead>\n",
       "    <tr style=\"text-align: right;\">\n",
       "      <th></th>\n",
       "    </tr>\n",
       "  </thead>\n",
       "  <tbody>\n",
       "  </tbody>\n",
       "</table>\n",
       "</div>"
      ],
      "text/plain": [
       "Empty DataFrame\n",
       "Columns: []\n",
       "Index: []"
      ]
     },
     "execution_count": 40,
     "metadata": {},
     "output_type": "execute_result"
    }
   ],
   "source": [
    "eda_df"
   ]
  },
  {
   "cell_type": "markdown",
   "id": "ec5a2d83",
   "metadata": {},
   "source": [
    "A great way to verify that the data was loaded and structured correctly. Here I displayed basic information about the 'eda_df' DataFrame, including column names, data types, and non-null counts. Then print the first 5 rows to get a quick preview of the data."
   ]
  },
  {
   "cell_type": "code",
   "execution_count": 41,
   "id": "6f748737",
   "metadata": {},
   "outputs": [
    {
     "name": "stdout",
     "output_type": "stream",
     "text": [
      "Dataset Information:\n",
      "<class 'pandas.core.frame.DataFrame'>\n",
      "RangeIndex: 0 entries\n",
      "Empty DataFrame\n",
      "None\n",
      "\n",
      "First 5 rows:\n",
      "Empty DataFrame\n",
      "Columns: []\n",
      "Index: []\n"
     ]
    }
   ],
   "source": [
    "print(\"Dataset Information:\")\n",
    "print(eda_df.info())\n",
    "print(\"\\nFirst 5 rows:\")\n",
    "print(eda_df.head())"
   ]
  },
  {
   "cell_type": "markdown",
   "id": "8b41ebed",
   "metadata": {},
   "source": [
    "Created a histogram with a KDE (Kernel Density Estimate) overlay to visualize the distribution of word counts across all JSON documents in the 'eda_df' DataFrame."
   ]
  },
  {
   "cell_type": "code",
   "execution_count": 43,
   "id": "fda2735d",
   "metadata": {},
   "outputs": [
    {
     "ename": "KeyError",
     "evalue": "'word_count'",
     "output_type": "error",
     "traceback": [
      "\u001b[1;31m---------------------------------------------------------------------------\u001b[0m",
      "\u001b[1;31mKeyError\u001b[0m                                  Traceback (most recent call last)",
      "Cell \u001b[1;32mIn[43], line 2\u001b[0m\n\u001b[0;32m      1\u001b[0m plt\u001b[38;5;241m.\u001b[39mfigure(figsize\u001b[38;5;241m=\u001b[39m(\u001b[38;5;241m10\u001b[39m,\u001b[38;5;241m6\u001b[39m))\n\u001b[1;32m----> 2\u001b[0m sns\u001b[38;5;241m.\u001b[39mhistplot(\u001b[43meda_df\u001b[49m\u001b[43m[\u001b[49m\u001b[38;5;124;43m\"\u001b[39;49m\u001b[38;5;124;43mword_count\u001b[39;49m\u001b[38;5;124;43m\"\u001b[39;49m\u001b[43m]\u001b[49m, bins\u001b[38;5;241m=\u001b[39m\u001b[38;5;241m20\u001b[39m, kde\u001b[38;5;241m=\u001b[39m\u001b[38;5;28;01mTrue\u001b[39;00m)\n\u001b[0;32m      3\u001b[0m plt\u001b[38;5;241m.\u001b[39mtitle(\u001b[38;5;124m\"\u001b[39m\u001b[38;5;124mDistribution of Word Count in JSON Files\u001b[39m\u001b[38;5;124m\"\u001b[39m)\n\u001b[0;32m      4\u001b[0m plt\u001b[38;5;241m.\u001b[39mxlabel(\u001b[38;5;124m\"\u001b[39m\u001b[38;5;124mWord Count\u001b[39m\u001b[38;5;124m\"\u001b[39m)\n",
      "File \u001b[1;32mc:\\Users\\MUZEEZA SYED\\anaconda3\\Lib\\site-packages\\pandas\\core\\frame.py:3761\u001b[0m, in \u001b[0;36mDataFrame.__getitem__\u001b[1;34m(self, key)\u001b[0m\n\u001b[0;32m   3759\u001b[0m \u001b[38;5;28;01mif\u001b[39;00m \u001b[38;5;28mself\u001b[39m\u001b[38;5;241m.\u001b[39mcolumns\u001b[38;5;241m.\u001b[39mnlevels \u001b[38;5;241m>\u001b[39m \u001b[38;5;241m1\u001b[39m:\n\u001b[0;32m   3760\u001b[0m     \u001b[38;5;28;01mreturn\u001b[39;00m \u001b[38;5;28mself\u001b[39m\u001b[38;5;241m.\u001b[39m_getitem_multilevel(key)\n\u001b[1;32m-> 3761\u001b[0m indexer \u001b[38;5;241m=\u001b[39m \u001b[38;5;28;43mself\u001b[39;49m\u001b[38;5;241;43m.\u001b[39;49m\u001b[43mcolumns\u001b[49m\u001b[38;5;241;43m.\u001b[39;49m\u001b[43mget_loc\u001b[49m\u001b[43m(\u001b[49m\u001b[43mkey\u001b[49m\u001b[43m)\u001b[49m\n\u001b[0;32m   3762\u001b[0m \u001b[38;5;28;01mif\u001b[39;00m is_integer(indexer):\n\u001b[0;32m   3763\u001b[0m     indexer \u001b[38;5;241m=\u001b[39m [indexer]\n",
      "File \u001b[1;32mc:\\Users\\MUZEEZA SYED\\anaconda3\\Lib\\site-packages\\pandas\\core\\indexes\\range.py:349\u001b[0m, in \u001b[0;36mRangeIndex.get_loc\u001b[1;34m(self, key)\u001b[0m\n\u001b[0;32m    347\u001b[0m         \u001b[38;5;28;01mraise\u001b[39;00m \u001b[38;5;167;01mKeyError\u001b[39;00m(key) \u001b[38;5;28;01mfrom\u001b[39;00m \u001b[38;5;21;01merr\u001b[39;00m\n\u001b[0;32m    348\u001b[0m \u001b[38;5;28;01mif\u001b[39;00m \u001b[38;5;28misinstance\u001b[39m(key, Hashable):\n\u001b[1;32m--> 349\u001b[0m     \u001b[38;5;28;01mraise\u001b[39;00m \u001b[38;5;167;01mKeyError\u001b[39;00m(key)\n\u001b[0;32m    350\u001b[0m \u001b[38;5;28mself\u001b[39m\u001b[38;5;241m.\u001b[39m_check_indexing_error(key)\n\u001b[0;32m    351\u001b[0m \u001b[38;5;28;01mraise\u001b[39;00m \u001b[38;5;167;01mKeyError\u001b[39;00m(key)\n",
      "\u001b[1;31mKeyError\u001b[0m: 'word_count'"
     ]
    },
    {
     "data": {
      "text/plain": [
       "<Figure size 1000x600 with 0 Axes>"
      ]
     },
     "metadata": {},
     "output_type": "display_data"
    }
   ],
   "source": [
    "plt.figure(figsize=(10,6))\n",
    "sns.histplot(eda_df[\"word_count\"], bins=20, kde=True)\n",
    "plt.title(\"Distribution of Word Count in JSON Files\")\n",
    "plt.xlabel(\"Word Count\")\n",
    "plt.ylabel(\"Frequency\")\n",
    "plt.show()"
   ]
  },
  {
   "cell_type": "markdown",
   "id": "f233aeed",
   "metadata": {},
   "source": [
    "This time created a histogram with a KDE overlay to visualize the distribution of character counts across all documents in the 'eda_df' DataFrame."
   ]
  },
  {
   "cell_type": "code",
   "execution_count": 45,
   "id": "54dbc785",
   "metadata": {},
   "outputs": [
    {
     "ename": "KeyError",
     "evalue": "'char_count'",
     "output_type": "error",
     "traceback": [
      "\u001b[1;31m---------------------------------------------------------------------------\u001b[0m",
      "\u001b[1;31mKeyError\u001b[0m                                  Traceback (most recent call last)",
      "Cell \u001b[1;32mIn[45], line 2\u001b[0m\n\u001b[0;32m      1\u001b[0m plt\u001b[38;5;241m.\u001b[39mfigure(figsize\u001b[38;5;241m=\u001b[39m(\u001b[38;5;241m10\u001b[39m,\u001b[38;5;241m6\u001b[39m))\n\u001b[1;32m----> 2\u001b[0m sns\u001b[38;5;241m.\u001b[39mhistplot(\u001b[43meda_df\u001b[49m\u001b[43m[\u001b[49m\u001b[38;5;124;43m\"\u001b[39;49m\u001b[38;5;124;43mchar_count\u001b[39;49m\u001b[38;5;124;43m\"\u001b[39;49m\u001b[43m]\u001b[49m, bins\u001b[38;5;241m=\u001b[39m\u001b[38;5;241m20\u001b[39m, kde\u001b[38;5;241m=\u001b[39m\u001b[38;5;28;01mTrue\u001b[39;00m)\n\u001b[0;32m      3\u001b[0m plt\u001b[38;5;241m.\u001b[39mtitle(\u001b[38;5;124m\"\u001b[39m\u001b[38;5;124mDistribution of Character Count in JSON Files\u001b[39m\u001b[38;5;124m\"\u001b[39m)\n\u001b[0;32m      4\u001b[0m plt\u001b[38;5;241m.\u001b[39mxlabel(\u001b[38;5;124m\"\u001b[39m\u001b[38;5;124mCharacter Count\u001b[39m\u001b[38;5;124m\"\u001b[39m)\n",
      "File \u001b[1;32mc:\\Users\\MUZEEZA SYED\\anaconda3\\Lib\\site-packages\\pandas\\core\\frame.py:3761\u001b[0m, in \u001b[0;36mDataFrame.__getitem__\u001b[1;34m(self, key)\u001b[0m\n\u001b[0;32m   3759\u001b[0m \u001b[38;5;28;01mif\u001b[39;00m \u001b[38;5;28mself\u001b[39m\u001b[38;5;241m.\u001b[39mcolumns\u001b[38;5;241m.\u001b[39mnlevels \u001b[38;5;241m>\u001b[39m \u001b[38;5;241m1\u001b[39m:\n\u001b[0;32m   3760\u001b[0m     \u001b[38;5;28;01mreturn\u001b[39;00m \u001b[38;5;28mself\u001b[39m\u001b[38;5;241m.\u001b[39m_getitem_multilevel(key)\n\u001b[1;32m-> 3761\u001b[0m indexer \u001b[38;5;241m=\u001b[39m \u001b[38;5;28;43mself\u001b[39;49m\u001b[38;5;241;43m.\u001b[39;49m\u001b[43mcolumns\u001b[49m\u001b[38;5;241;43m.\u001b[39;49m\u001b[43mget_loc\u001b[49m\u001b[43m(\u001b[49m\u001b[43mkey\u001b[49m\u001b[43m)\u001b[49m\n\u001b[0;32m   3762\u001b[0m \u001b[38;5;28;01mif\u001b[39;00m is_integer(indexer):\n\u001b[0;32m   3763\u001b[0m     indexer \u001b[38;5;241m=\u001b[39m [indexer]\n",
      "File \u001b[1;32mc:\\Users\\MUZEEZA SYED\\anaconda3\\Lib\\site-packages\\pandas\\core\\indexes\\range.py:349\u001b[0m, in \u001b[0;36mRangeIndex.get_loc\u001b[1;34m(self, key)\u001b[0m\n\u001b[0;32m    347\u001b[0m         \u001b[38;5;28;01mraise\u001b[39;00m \u001b[38;5;167;01mKeyError\u001b[39;00m(key) \u001b[38;5;28;01mfrom\u001b[39;00m \u001b[38;5;21;01merr\u001b[39;00m\n\u001b[0;32m    348\u001b[0m \u001b[38;5;28;01mif\u001b[39;00m \u001b[38;5;28misinstance\u001b[39m(key, Hashable):\n\u001b[1;32m--> 349\u001b[0m     \u001b[38;5;28;01mraise\u001b[39;00m \u001b[38;5;167;01mKeyError\u001b[39;00m(key)\n\u001b[0;32m    350\u001b[0m \u001b[38;5;28mself\u001b[39m\u001b[38;5;241m.\u001b[39m_check_indexing_error(key)\n\u001b[0;32m    351\u001b[0m \u001b[38;5;28;01mraise\u001b[39;00m \u001b[38;5;167;01mKeyError\u001b[39;00m(key)\n",
      "\u001b[1;31mKeyError\u001b[0m: 'char_count'"
     ]
    },
    {
     "data": {
      "text/plain": [
       "<Figure size 1000x600 with 0 Axes>"
      ]
     },
     "metadata": {},
     "output_type": "display_data"
    }
   ],
   "source": [
    "plt.figure(figsize=(10,6))\n",
    "sns.histplot(eda_df[\"char_count\"], bins=20, kde=True)\n",
    "plt.title(\"Distribution of Character Count in JSON Files\")\n",
    "plt.xlabel(\"Character Count\")\n",
    "plt.ylabel(\"Frequency\")\n",
    "plt.show()"
   ]
  },
  {
   "cell_type": "markdown",
   "id": "c69c1156",
   "metadata": {},
   "source": [
    "To visualize oand further analyze the most common sections across papers, Extracted all section names from the 'body_text' field of each JSON object in 'json_contents'. Next normalize section names to lowercase and store them in a list for frequency analysis"
   ]
  },
  {
   "cell_type": "code",
   "execution_count": 44,
   "id": "cd2a1528",
   "metadata": {},
   "outputs": [],
   "source": [
    "\n",
    "all_sections = []\n",
    "for json_obj in json_contents:\n",
    "    if \"body_text\" in json_obj and isinstance(json_obj[\"body_text\"], list):\n",
    "        for item in json_obj[\"body_text\"]:\n",
    "            if isinstance(item, dict):\n",
    "                sec = item.get(\"section\", \"\").strip().lower()  # Normalize section name to lowercase\n",
    "                if sec:\n",
    "                    all_sections.append(sec)\n",
    "\n",
    "# Convert the list of section names into a DataFrame\n",
    "section_df = pd.DataFrame(all_sections, columns=[\"section\"])\n",
    "\n",
    "# Group the DataFrame by section name and count occurrences to get frequency of each section\n",
    "grouped_sections = section_df.groupby(\"section\").size().reset_index(name=\"frequency\")\n",
    "\n",
    "# Sort the grouped sections by frequency in descending order for better visualization\n",
    "grouped_sections = grouped_sections.sort_values(by=\"frequency\", ascending=False)"
   ]
  },
  {
   "cell_type": "markdown",
   "id": "81313a6d",
   "metadata": {},
   "source": [
    "This gives a quick look at the most common structural elements used in the papers which is great for understanding document formatting trends"
   ]
  },
  {
   "cell_type": "code",
   "execution_count": 46,
   "id": "0cb300da",
   "metadata": {},
   "outputs": [
    {
     "name": "stdout",
     "output_type": "stream",
     "text": [
      "\n",
      "Grouped Section Frequency:\n",
      "Empty DataFrame\n",
      "Columns: [section, frequency]\n",
      "Index: []\n"
     ]
    }
   ],
   "source": [
    "# Select the top N most frequent sections for analysis and visualization\n",
    "top_n = 10\n",
    "plot_df = grouped_sections.head(top_n)\n",
    "\n",
    "# Print the DataFrame showing the most common section names and their corresponding frequencies\n",
    "print(\"\\nGrouped Section Frequency:\")\n",
    "print(plot_df)"
   ]
  },
  {
   "cell_type": "markdown",
   "id": "81653331",
   "metadata": {},
   "source": [
    "Created a horizontal bar chart to visualize the most common section titles across the JSON documents. Used seaborn for clean styling and the 'viridis' palette for visual appeal. (Virdis is a series of color maps that are designed to improve graph readability for readers with common forms of color blindness )"
   ]
  },
  {
   "cell_type": "code",
   "execution_count": 47,
   "id": "b198fcd0",
   "metadata": {},
   "outputs": [
    {
     "ename": "ValueError",
     "evalue": "min() arg is an empty sequence",
     "output_type": "error",
     "traceback": [
      "\u001b[1;31m---------------------------------------------------------------------------\u001b[0m",
      "\u001b[1;31mValueError\u001b[0m                                Traceback (most recent call last)",
      "Cell \u001b[1;32mIn[47], line 3\u001b[0m\n\u001b[0;32m      1\u001b[0m \u001b[38;5;66;03m# Plot horizontal bar chart for top sections\u001b[39;00m\n\u001b[0;32m      2\u001b[0m plt\u001b[38;5;241m.\u001b[39mfigure(figsize\u001b[38;5;241m=\u001b[39m(\u001b[38;5;241m10\u001b[39m,\u001b[38;5;241m6\u001b[39m))\n\u001b[1;32m----> 3\u001b[0m \u001b[43msns\u001b[49m\u001b[38;5;241;43m.\u001b[39;49m\u001b[43mbarplot\u001b[49m\u001b[43m(\u001b[49m\u001b[43mx\u001b[49m\u001b[38;5;241;43m=\u001b[39;49m\u001b[38;5;124;43m\"\u001b[39;49m\u001b[38;5;124;43mfrequency\u001b[39;49m\u001b[38;5;124;43m\"\u001b[39;49m\u001b[43m,\u001b[49m\u001b[43m \u001b[49m\u001b[43my\u001b[49m\u001b[38;5;241;43m=\u001b[39;49m\u001b[38;5;124;43m\"\u001b[39;49m\u001b[38;5;124;43msection\u001b[39;49m\u001b[38;5;124;43m\"\u001b[39;49m\u001b[43m,\u001b[49m\u001b[43m \u001b[49m\u001b[43mdata\u001b[49m\u001b[38;5;241;43m=\u001b[39;49m\u001b[43mplot_df\u001b[49m\u001b[43m,\u001b[49m\u001b[43m \u001b[49m\u001b[43mpalette\u001b[49m\u001b[38;5;241;43m=\u001b[39;49m\u001b[38;5;124;43m\"\u001b[39;49m\u001b[38;5;124;43mviridis\u001b[39;49m\u001b[38;5;124;43m\"\u001b[39;49m\u001b[43m)\u001b[49m\n\u001b[0;32m      4\u001b[0m plt\u001b[38;5;241m.\u001b[39mtitle(\u001b[38;5;124m\"\u001b[39m\u001b[38;5;124mTop Section Frequencies\u001b[39m\u001b[38;5;124m\"\u001b[39m)\n\u001b[0;32m      5\u001b[0m plt\u001b[38;5;241m.\u001b[39mxlabel(\u001b[38;5;124m\"\u001b[39m\u001b[38;5;124mFrequency\u001b[39m\u001b[38;5;124m\"\u001b[39m)\n",
      "File \u001b[1;32mc:\\Users\\MUZEEZA SYED\\anaconda3\\Lib\\site-packages\\seaborn\\categorical.py:2755\u001b[0m, in \u001b[0;36mbarplot\u001b[1;34m(data, x, y, hue, order, hue_order, estimator, errorbar, n_boot, units, seed, orient, color, palette, saturation, width, errcolor, errwidth, capsize, dodge, ci, ax, **kwargs)\u001b[0m\n\u001b[0;32m   2752\u001b[0m \u001b[38;5;28;01mif\u001b[39;00m estimator \u001b[38;5;129;01mis\u001b[39;00m \u001b[38;5;28mlen\u001b[39m:\n\u001b[0;32m   2753\u001b[0m     estimator \u001b[38;5;241m=\u001b[39m \u001b[38;5;124m\"\u001b[39m\u001b[38;5;124msize\u001b[39m\u001b[38;5;124m\"\u001b[39m\n\u001b[1;32m-> 2755\u001b[0m plotter \u001b[38;5;241m=\u001b[39m \u001b[43m_BarPlotter\u001b[49m\u001b[43m(\u001b[49m\u001b[43mx\u001b[49m\u001b[43m,\u001b[49m\u001b[43m \u001b[49m\u001b[43my\u001b[49m\u001b[43m,\u001b[49m\u001b[43m \u001b[49m\u001b[43mhue\u001b[49m\u001b[43m,\u001b[49m\u001b[43m \u001b[49m\u001b[43mdata\u001b[49m\u001b[43m,\u001b[49m\u001b[43m \u001b[49m\u001b[43morder\u001b[49m\u001b[43m,\u001b[49m\u001b[43m \u001b[49m\u001b[43mhue_order\u001b[49m\u001b[43m,\u001b[49m\n\u001b[0;32m   2756\u001b[0m \u001b[43m                      \u001b[49m\u001b[43mestimator\u001b[49m\u001b[43m,\u001b[49m\u001b[43m \u001b[49m\u001b[43merrorbar\u001b[49m\u001b[43m,\u001b[49m\u001b[43m \u001b[49m\u001b[43mn_boot\u001b[49m\u001b[43m,\u001b[49m\u001b[43m \u001b[49m\u001b[43munits\u001b[49m\u001b[43m,\u001b[49m\u001b[43m \u001b[49m\u001b[43mseed\u001b[49m\u001b[43m,\u001b[49m\n\u001b[0;32m   2757\u001b[0m \u001b[43m                      \u001b[49m\u001b[43morient\u001b[49m\u001b[43m,\u001b[49m\u001b[43m \u001b[49m\u001b[43mcolor\u001b[49m\u001b[43m,\u001b[49m\u001b[43m \u001b[49m\u001b[43mpalette\u001b[49m\u001b[43m,\u001b[49m\u001b[43m \u001b[49m\u001b[43msaturation\u001b[49m\u001b[43m,\u001b[49m\n\u001b[0;32m   2758\u001b[0m \u001b[43m                      \u001b[49m\u001b[43mwidth\u001b[49m\u001b[43m,\u001b[49m\u001b[43m \u001b[49m\u001b[43merrcolor\u001b[49m\u001b[43m,\u001b[49m\u001b[43m \u001b[49m\u001b[43merrwidth\u001b[49m\u001b[43m,\u001b[49m\u001b[43m \u001b[49m\u001b[43mcapsize\u001b[49m\u001b[43m,\u001b[49m\u001b[43m \u001b[49m\u001b[43mdodge\u001b[49m\u001b[43m)\u001b[49m\n\u001b[0;32m   2760\u001b[0m \u001b[38;5;28;01mif\u001b[39;00m ax \u001b[38;5;129;01mis\u001b[39;00m \u001b[38;5;28;01mNone\u001b[39;00m:\n\u001b[0;32m   2761\u001b[0m     ax \u001b[38;5;241m=\u001b[39m plt\u001b[38;5;241m.\u001b[39mgca()\n",
      "File \u001b[1;32mc:\\Users\\MUZEEZA SYED\\anaconda3\\Lib\\site-packages\\seaborn\\categorical.py:1532\u001b[0m, in \u001b[0;36m_BarPlotter.__init__\u001b[1;34m(self, x, y, hue, data, order, hue_order, estimator, errorbar, n_boot, units, seed, orient, color, palette, saturation, width, errcolor, errwidth, capsize, dodge)\u001b[0m\n\u001b[0;32m   1529\u001b[0m \u001b[38;5;250m\u001b[39m\u001b[38;5;124;03m\"\"\"Initialize the plotter.\"\"\"\u001b[39;00m\n\u001b[0;32m   1530\u001b[0m \u001b[38;5;28mself\u001b[39m\u001b[38;5;241m.\u001b[39mestablish_variables(x, y, hue, data, orient,\n\u001b[0;32m   1531\u001b[0m                          order, hue_order, units)\n\u001b[1;32m-> 1532\u001b[0m \u001b[38;5;28;43mself\u001b[39;49m\u001b[38;5;241;43m.\u001b[39;49m\u001b[43mestablish_colors\u001b[49m\u001b[43m(\u001b[49m\u001b[43mcolor\u001b[49m\u001b[43m,\u001b[49m\u001b[43m \u001b[49m\u001b[43mpalette\u001b[49m\u001b[43m,\u001b[49m\u001b[43m \u001b[49m\u001b[43msaturation\u001b[49m\u001b[43m)\u001b[49m\n\u001b[0;32m   1533\u001b[0m \u001b[38;5;28mself\u001b[39m\u001b[38;5;241m.\u001b[39mestimate_statistic(estimator, errorbar, n_boot, seed)\n\u001b[0;32m   1535\u001b[0m \u001b[38;5;28mself\u001b[39m\u001b[38;5;241m.\u001b[39mdodge \u001b[38;5;241m=\u001b[39m dodge\n",
      "File \u001b[1;32mc:\\Users\\MUZEEZA SYED\\anaconda3\\Lib\\site-packages\\seaborn\\categorical.py:707\u001b[0m, in \u001b[0;36m_CategoricalPlotter.establish_colors\u001b[1;34m(self, color, palette, saturation)\u001b[0m\n\u001b[0;32m    705\u001b[0m \u001b[38;5;66;03m# Determine the gray color to use for the lines framing the plot\u001b[39;00m\n\u001b[0;32m    706\u001b[0m light_vals \u001b[38;5;241m=\u001b[39m [rgb_to_hls(\u001b[38;5;241m*\u001b[39mc)[\u001b[38;5;241m1\u001b[39m] \u001b[38;5;28;01mfor\u001b[39;00m c \u001b[38;5;129;01min\u001b[39;00m rgb_colors]\n\u001b[1;32m--> 707\u001b[0m lum \u001b[38;5;241m=\u001b[39m \u001b[38;5;28;43mmin\u001b[39;49m\u001b[43m(\u001b[49m\u001b[43mlight_vals\u001b[49m\u001b[43m)\u001b[49m \u001b[38;5;241m*\u001b[39m \u001b[38;5;241m.6\u001b[39m\n\u001b[0;32m    708\u001b[0m gray \u001b[38;5;241m=\u001b[39m mpl\u001b[38;5;241m.\u001b[39mcolors\u001b[38;5;241m.\u001b[39mrgb2hex((lum, lum, lum))\n\u001b[0;32m    710\u001b[0m \u001b[38;5;66;03m# Assign object attributes\u001b[39;00m\n",
      "\u001b[1;31mValueError\u001b[0m: min() arg is an empty sequence"
     ]
    },
    {
     "data": {
      "text/plain": [
       "<Figure size 1000x600 with 0 Axes>"
      ]
     },
     "metadata": {},
     "output_type": "display_data"
    }
   ],
   "source": [
    "# Plot horizontal bar chart for top sections\n",
    "plt.figure(figsize=(10,6))\n",
    "sns.barplot(x=\"frequency\", y=\"section\", data=plot_df, palette=\"viridis\")\n",
    "plt.title(\"Top Section Frequencies\")\n",
    "plt.xlabel(\"Frequency\")\n",
    "plt.ylabel(\"Section\")\n",
    "plt.tight_layout()\n",
    "plt.show()"
   ]
  },
  {
   "cell_type": "markdown",
   "id": "9f804a0c",
   "metadata": {},
   "source": [
    "This visualizes the most frequent meaningful terms in corpus.The corpus is the entire collection of text extracted from all the JSON files, that includes abstracts and body text from the papers."
   ]
  },
  {
   "cell_type": "code",
   "execution_count": 48,
   "id": "2f81a7ea",
   "metadata": {},
   "outputs": [
    {
     "ename": "KeyError",
     "evalue": "'text'",
     "output_type": "error",
     "traceback": [
      "\u001b[1;31m---------------------------------------------------------------------------\u001b[0m",
      "\u001b[1;31mKeyError\u001b[0m                                  Traceback (most recent call last)",
      "Cell \u001b[1;32mIn[48], line 2\u001b[0m\n\u001b[0;32m      1\u001b[0m \u001b[38;5;66;03m# Combine all extracted text from the 'eda_df' DataFrame into one large lowercase string\u001b[39;00m\n\u001b[1;32m----> 2\u001b[0m all_text \u001b[38;5;241m=\u001b[39m \u001b[38;5;124m\"\u001b[39m\u001b[38;5;124m \u001b[39m\u001b[38;5;124m\"\u001b[39m\u001b[38;5;241m.\u001b[39mjoin(\u001b[43meda_df\u001b[49m\u001b[43m[\u001b[49m\u001b[38;5;124;43m\"\u001b[39;49m\u001b[38;5;124;43mtext\u001b[39;49m\u001b[38;5;124;43m\"\u001b[39;49m\u001b[43m]\u001b[49m)\u001b[38;5;241m.\u001b[39mlower()\n\u001b[0;32m      4\u001b[0m \u001b[38;5;66;03m# Tokenize the text into words using regex to capture only word characters\u001b[39;00m\n\u001b[0;32m      5\u001b[0m words \u001b[38;5;241m=\u001b[39m re\u001b[38;5;241m.\u001b[39mfindall(\u001b[38;5;124mr\u001b[39m\u001b[38;5;124m'\u001b[39m\u001b[38;5;124m\\\u001b[39m\u001b[38;5;124mw+\u001b[39m\u001b[38;5;124m'\u001b[39m, all_text)\n",
      "File \u001b[1;32mc:\\Users\\MUZEEZA SYED\\anaconda3\\Lib\\site-packages\\pandas\\core\\frame.py:3761\u001b[0m, in \u001b[0;36mDataFrame.__getitem__\u001b[1;34m(self, key)\u001b[0m\n\u001b[0;32m   3759\u001b[0m \u001b[38;5;28;01mif\u001b[39;00m \u001b[38;5;28mself\u001b[39m\u001b[38;5;241m.\u001b[39mcolumns\u001b[38;5;241m.\u001b[39mnlevels \u001b[38;5;241m>\u001b[39m \u001b[38;5;241m1\u001b[39m:\n\u001b[0;32m   3760\u001b[0m     \u001b[38;5;28;01mreturn\u001b[39;00m \u001b[38;5;28mself\u001b[39m\u001b[38;5;241m.\u001b[39m_getitem_multilevel(key)\n\u001b[1;32m-> 3761\u001b[0m indexer \u001b[38;5;241m=\u001b[39m \u001b[38;5;28;43mself\u001b[39;49m\u001b[38;5;241;43m.\u001b[39;49m\u001b[43mcolumns\u001b[49m\u001b[38;5;241;43m.\u001b[39;49m\u001b[43mget_loc\u001b[49m\u001b[43m(\u001b[49m\u001b[43mkey\u001b[49m\u001b[43m)\u001b[49m\n\u001b[0;32m   3762\u001b[0m \u001b[38;5;28;01mif\u001b[39;00m is_integer(indexer):\n\u001b[0;32m   3763\u001b[0m     indexer \u001b[38;5;241m=\u001b[39m [indexer]\n",
      "File \u001b[1;32mc:\\Users\\MUZEEZA SYED\\anaconda3\\Lib\\site-packages\\pandas\\core\\indexes\\range.py:349\u001b[0m, in \u001b[0;36mRangeIndex.get_loc\u001b[1;34m(self, key)\u001b[0m\n\u001b[0;32m    347\u001b[0m         \u001b[38;5;28;01mraise\u001b[39;00m \u001b[38;5;167;01mKeyError\u001b[39;00m(key) \u001b[38;5;28;01mfrom\u001b[39;00m \u001b[38;5;21;01merr\u001b[39;00m\n\u001b[0;32m    348\u001b[0m \u001b[38;5;28;01mif\u001b[39;00m \u001b[38;5;28misinstance\u001b[39m(key, Hashable):\n\u001b[1;32m--> 349\u001b[0m     \u001b[38;5;28;01mraise\u001b[39;00m \u001b[38;5;167;01mKeyError\u001b[39;00m(key)\n\u001b[0;32m    350\u001b[0m \u001b[38;5;28mself\u001b[39m\u001b[38;5;241m.\u001b[39m_check_indexing_error(key)\n\u001b[0;32m    351\u001b[0m \u001b[38;5;28;01mraise\u001b[39;00m \u001b[38;5;167;01mKeyError\u001b[39;00m(key)\n",
      "\u001b[1;31mKeyError\u001b[0m: 'text'"
     ]
    }
   ],
   "source": [
    "# Combine all extracted text from the 'eda_df' DataFrame into one large lowercase string\n",
    "all_text = \" \".join(eda_df[\"text\"]).lower()\n",
    "\n",
    "# Tokenize the text into words using regex to capture only word characters\n",
    "words = re.findall(r'\\w+', all_text)\n",
    "\n",
    "# Import a built-in list of English stop words from scikit-learn\n",
    "from sklearn.feature_extraction.text import ENGLISH_STOP_WORDS\n",
    "\n",
    "# Filter out stop words and non-alphabetic tokens to clean the word list\n",
    "filtered_words = [word for word in words if word.isalpha() and word not in ENGLISH_STOP_WORDS]\n",
    "\n",
    "# If there are any remaining words, generate a word cloud visualization\n",
    "if filtered_words:\n",
    "    filtered_text = \" \".join(filtered_words)  # Recombine words into a single string\n",
    "    wordcloud = WordCloud(width=800, height=400, background_color='white').generate(filtered_text)\n",
    "\n",
    "    # Display the word cloud with Matplotlib\n",
    "    plt.figure(figsize=(12,6))\n",
    "    plt.imshow(wordcloud, interpolation=\"bilinear\")\n",
    "    plt.axis(\"off\")\n",
    "    plt.title(\"Word Cloud (Stop Words Removed)\")\n",
    "    plt.show()\n",
    "else:\n",
    "    # Inform the user if no text is left after filtering stop words\n",
    "    print(\"No text available to generate a word cloud after filtering stop words.\")\n"
   ]
  },
  {
   "cell_type": "markdown",
   "id": "4b45e5b2",
   "metadata": {},
   "source": [
    "This gives a quick, text-based look at the most dominant terms in your corpus after stop words are removed"
   ]
  },
  {
   "cell_type": "code",
   "execution_count": 49,
   "id": "63ad97f1",
   "metadata": {},
   "outputs": [
    {
     "ename": "NameError",
     "evalue": "name 'filtered_words' is not defined",
     "output_type": "error",
     "traceback": [
      "\u001b[1;31m---------------------------------------------------------------------------\u001b[0m",
      "\u001b[1;31mNameError\u001b[0m                                 Traceback (most recent call last)",
      "Cell \u001b[1;32mIn[49], line 2\u001b[0m\n\u001b[0;32m      1\u001b[0m \u001b[38;5;66;03m# Use Python's Counter to find the 20 most common words in the filtered word list (i.e., meaningful words only)\u001b[39;00m\n\u001b[1;32m----> 2\u001b[0m top_words \u001b[38;5;241m=\u001b[39m Counter(\u001b[43mfiltered_words\u001b[49m)\u001b[38;5;241m.\u001b[39mmost_common(\u001b[38;5;241m20\u001b[39m)\n\u001b[0;32m      4\u001b[0m \u001b[38;5;66;03m# Print the top 20 words along with their frequencies\u001b[39;00m\n\u001b[0;32m      5\u001b[0m \u001b[38;5;28mprint\u001b[39m(\u001b[38;5;124m\"\u001b[39m\u001b[38;5;130;01m\\n\u001b[39;00m\u001b[38;5;124mTop 20 Words (Filtered):\u001b[39m\u001b[38;5;124m\"\u001b[39m)\n",
      "\u001b[1;31mNameError\u001b[0m: name 'filtered_words' is not defined"
     ]
    }
   ],
   "source": [
    "# Use Python's Counter to find the 20 most common words in the filtered word list (i.e., meaningful words only)\n",
    "top_words = Counter(filtered_words).most_common(20)\n",
    "\n",
    "# Print the top 20 words along with their frequencies\n",
    "print(\"\\nTop 20 Words (Filtered):\")\n",
    "for word, count in top_words:\n",
    "    print(f\"{word}: {count}\")"
   ]
  },
  {
   "cell_type": "markdown",
   "id": "15fd08d9",
   "metadata": {},
   "source": [
    "Visualised the dominant keywords in dataset. "
   ]
  },
  {
   "cell_type": "code",
   "execution_count": 50,
   "id": "4488b02e",
   "metadata": {},
   "outputs": [
    {
     "ename": "NameError",
     "evalue": "name 'top_words' is not defined",
     "output_type": "error",
     "traceback": [
      "\u001b[1;31m---------------------------------------------------------------------------\u001b[0m",
      "\u001b[1;31mNameError\u001b[0m                                 Traceback (most recent call last)",
      "Cell \u001b[1;32mIn[50], line 2\u001b[0m\n\u001b[0;32m      1\u001b[0m \u001b[38;5;66;03m# If the list of top words is not empty, plot a bar chart to visualize the top 20 most frequent words\u001b[39;00m\n\u001b[1;32m----> 2\u001b[0m \u001b[38;5;28;01mif\u001b[39;00m \u001b[43mtop_words\u001b[49m:\n\u001b[0;32m      3\u001b[0m     words_list, counts_list \u001b[38;5;241m=\u001b[39m \u001b[38;5;28mzip\u001b[39m(\u001b[38;5;241m*\u001b[39mtop_words)  \u001b[38;5;66;03m# Separate words and their counts into two lists\u001b[39;00m\n\u001b[0;32m      5\u001b[0m     \u001b[38;5;66;03m# Create a bar plot using seaborn to show word frequencies\u001b[39;00m\n",
      "\u001b[1;31mNameError\u001b[0m: name 'top_words' is not defined"
     ]
    }
   ],
   "source": [
    "# If the list of top words is not empty, plot a bar chart to visualize the top 20 most frequent words\n",
    "if top_words:\n",
    "    words_list, counts_list = zip(*top_words)  # Separate words and their counts into two lists\n",
    "    \n",
    "    # Create a bar plot using seaborn to show word frequencies\n",
    "    plt.figure(figsize=(12,6))\n",
    "    sns.barplot(x=list(words_list), y=list(counts_list), palette=\"magma\")\n",
    "    plt.title(\"Top 20 Most Frequent Words (Filtered)\")\n",
    "    plt.xlabel(\"Word\")\n",
    "    plt.ylabel(\"Frequency\")\n",
    "    plt.xticks(rotation=45)  # Rotate x-axis labels for better readability\n",
    "    plt.tight_layout()\n",
    "    plt.show()\n"
   ]
  }
 ],
 "metadata": {
  "kernelspec": {
   "display_name": "base",
   "language": "python",
   "name": "python3"
  },
  "language_info": {
   "codemirror_mode": {
    "name": "ipython",
    "version": 3
   },
   "file_extension": ".py",
   "mimetype": "text/x-python",
   "name": "python",
   "nbconvert_exporter": "python",
   "pygments_lexer": "ipython3",
   "version": "3.11.5"
  }
 },
 "nbformat": 4,
 "nbformat_minor": 5
}
